{
 "cells": [
  {
   "cell_type": "code",
   "execution_count": 3,
   "metadata": {
    "collapsed": true
   },
   "outputs": [],
   "source": [
    "import pickle\n",
    "with open('Drug_Summary.pkl','rb') as f:\n",
    "    Summary = pickle.load(f)"
   ]
  },
  {
   "cell_type": "code",
   "execution_count": 20,
   "metadata": {
    "collapsed": false
   },
   "outputs": [
    {
     "name": "stdout",
     "output_type": "stream",
     "text": [
      "68178\n",
      "unknown drug\n"
     ]
    }
   ],
   "source": [
    "print Summary[0]['mentions']\n",
    "print Summary[0]['name']"
   ]
  },
  {
   "cell_type": "code",
   "execution_count": 24,
   "metadata": {
    "collapsed": false
   },
   "outputs": [],
   "source": [
    "with open('Top25_Drug_Mentions.pkl','wb') as f:\n",
    "    pickle.dump(Summary[:25],f)"
   ]
  },
  {
   "cell_type": "code",
   "execution_count": 134,
   "metadata": {
    "collapsed": false
   },
   "outputs": [],
   "source": [
    "with open('Top25_Drug.txt','w') as f:\n",
    "    i =0 \n",
    "    for S in Summary:\n",
    "        f.write(S['name'] +',' +str(S['mentions']) + ','+str(S['spam rate'])+'\\n')\n",
    "        i +=1\n",
    "        if i == 25:\n",
    "            break"
   ]
  },
  {
   "cell_type": "code",
   "execution_count": 49,
   "metadata": {
    "collapsed": false
   },
   "outputs": [],
   "source": [
    "Good_Rank = sorted(Summary, key=lambda k: k['good'], reverse=True) "
   ]
  },
  {
   "cell_type": "code",
   "execution_count": 133,
   "metadata": {
    "collapsed": false
   },
   "outputs": [],
   "source": [
    "with open('Top25_Good_Drug.txt','w') as f:\n",
    "    i =0 \n",
    "    for S in Good_Rank:\n",
    "        f.write(S['name'] +',' +str(S['good']) + ','+str(S['mentions'])+'\\n')\n",
    "        i +=1\n",
    "        if i == 25:\n",
    "            break"
   ]
  },
  {
   "cell_type": "code",
   "execution_count": 113,
   "metadata": {
    "collapsed": false
   },
   "outputs": [],
   "source": [
    "#Subreddit Freqeuncy Chart\n",
    "import pickle\n",
    "with open('/home/dneems/Data/Eppiemico Data/Cleaning Text Pipeline/Data/Drug_Mention_FreqDict.pkl','rb') as f:\n",
    "    Drug_Desc_NoSpam= pickle.load(f)\n",
    "#Sub numbers form API \n",
    "with open('/home/dneems/Data/Eppiemico Data/subreddit_subs.pkl','rb') as f:\n",
    "    SR_Subs = pickle.load(f)\n",
    "    \n",
    "    \n",
    "#Build Freqeuncy List\n",
    "Subreddit_List = []\n",
    "for D in Drug_Desc_NoSpam:\n",
    "    Subreddit_List.extend(D['subreddit'])\n",
    "Unique_Subreddits = set(Subreddit_List)\n",
    "Subreddit_Freq = {}\n",
    "for D in Drug_Desc_NoSpam:\n",
    "    for S in D['subreddit']:\n",
    "        try:\n",
    "            Subreddit_Freq[S] +=1\n",
    "        except:\n",
    "            Subreddit_Freq[S] =1\n",
    "            import math\n",
    "Normalized_Posts = []\n",
    "\n",
    "for k in SR_Subs.keys():\n",
    "    if SR_Subs[k] > 1:\n",
    "        Normalized_Posts.append([k,Subreddit_Freq[k]/math.log10(float(SR_Subs[k])),Subreddit_Freq[k],float(SR_Subs[k])])\n",
    "    else:\n",
    "        Normalized_Posts.append([k,0,0,0])"
   ]
  },
  {
   "cell_type": "code",
   "execution_count": 114,
   "metadata": {
    "collapsed": false
   },
   "outputs": [
    {
     "ename": "TypeError",
     "evalue": "unhashable type: 'list'",
     "output_type": "error",
     "traceback": [
      "\u001b[1;31m---------------------------------------------------------------------------\u001b[0m",
      "\u001b[1;31mTypeError\u001b[0m                                 Traceback (most recent call last)",
      "\u001b[1;32m<ipython-input-114-d5e0ce19ff4c>\u001b[0m in \u001b[0;36m<module>\u001b[1;34m()\u001b[0m\n\u001b[0;32m      1\u001b[0m \u001b[1;32mfrom\u001b[0m \u001b[0mcollections\u001b[0m \u001b[1;32mimport\u001b[0m \u001b[0mCounter\u001b[0m\u001b[1;33m\u001b[0m\u001b[0m\n\u001b[0;32m      2\u001b[0m \u001b[1;32mimport\u001b[0m \u001b[0moperator\u001b[0m\u001b[1;33m\u001b[0m\u001b[0m\n\u001b[1;32m----> 3\u001b[1;33m \u001b[0mNormalized_Posts\u001b[0m \u001b[1;33m=\u001b[0m \u001b[0msorted\u001b[0m\u001b[1;33m(\u001b[0m\u001b[0mdict\u001b[0m\u001b[1;33m(\u001b[0m\u001b[0mCounter\u001b[0m\u001b[1;33m(\u001b[0m\u001b[0mNormalized_Posts\u001b[0m\u001b[1;33m)\u001b[0m\u001b[1;33m)\u001b[0m\u001b[1;33m.\u001b[0m\u001b[0mitems\u001b[0m\u001b[1;33m(\u001b[0m\u001b[1;33m)\u001b[0m\u001b[1;33m,\u001b[0m \u001b[0mkey\u001b[0m\u001b[1;33m=\u001b[0m\u001b[0moperator\u001b[0m\u001b[1;33m.\u001b[0m\u001b[0mitemgetter\u001b[0m\u001b[1;33m(\u001b[0m\u001b[1;36m1\u001b[0m\u001b[1;33m)\u001b[0m\u001b[1;33m,\u001b[0m\u001b[0mreverse\u001b[0m \u001b[1;33m=\u001b[0m \u001b[0mTrue\u001b[0m\u001b[1;33m)\u001b[0m\u001b[1;33m\u001b[0m\u001b[0m\n\u001b[0m",
      "\u001b[1;32m/home/dneems/anaconda2/lib/python2.7/collections.pyc\u001b[0m in \u001b[0;36m__init__\u001b[1;34m(*args, **kwds)\u001b[0m\n\u001b[0;32m    463\u001b[0m             \u001b[1;32mraise\u001b[0m \u001b[0mTypeError\u001b[0m\u001b[1;33m(\u001b[0m\u001b[1;34m'expected at most 1 arguments, got %d'\u001b[0m \u001b[1;33m%\u001b[0m \u001b[0mlen\u001b[0m\u001b[1;33m(\u001b[0m\u001b[0margs\u001b[0m\u001b[1;33m)\u001b[0m\u001b[1;33m)\u001b[0m\u001b[1;33m\u001b[0m\u001b[0m\n\u001b[0;32m    464\u001b[0m         \u001b[0msuper\u001b[0m\u001b[1;33m(\u001b[0m\u001b[0mCounter\u001b[0m\u001b[1;33m,\u001b[0m \u001b[0mself\u001b[0m\u001b[1;33m)\u001b[0m\u001b[1;33m.\u001b[0m\u001b[0m__init__\u001b[0m\u001b[1;33m(\u001b[0m\u001b[1;33m)\u001b[0m\u001b[1;33m\u001b[0m\u001b[0m\n\u001b[1;32m--> 465\u001b[1;33m         \u001b[0mself\u001b[0m\u001b[1;33m.\u001b[0m\u001b[0mupdate\u001b[0m\u001b[1;33m(\u001b[0m\u001b[1;33m*\u001b[0m\u001b[0margs\u001b[0m\u001b[1;33m,\u001b[0m \u001b[1;33m**\u001b[0m\u001b[0mkwds\u001b[0m\u001b[1;33m)\u001b[0m\u001b[1;33m\u001b[0m\u001b[0m\n\u001b[0m\u001b[0;32m    466\u001b[0m \u001b[1;33m\u001b[0m\u001b[0m\n\u001b[0;32m    467\u001b[0m     \u001b[1;32mdef\u001b[0m \u001b[0m__missing__\u001b[0m\u001b[1;33m(\u001b[0m\u001b[0mself\u001b[0m\u001b[1;33m,\u001b[0m \u001b[0mkey\u001b[0m\u001b[1;33m)\u001b[0m\u001b[1;33m:\u001b[0m\u001b[1;33m\u001b[0m\u001b[0m\n",
      "\u001b[1;32m/home/dneems/anaconda2/lib/python2.7/collections.pyc\u001b[0m in \u001b[0;36mupdate\u001b[1;34m(*args, **kwds)\u001b[0m\n\u001b[0;32m    553\u001b[0m                 \u001b[0mself_get\u001b[0m \u001b[1;33m=\u001b[0m \u001b[0mself\u001b[0m\u001b[1;33m.\u001b[0m\u001b[0mget\u001b[0m\u001b[1;33m\u001b[0m\u001b[0m\n\u001b[0;32m    554\u001b[0m                 \u001b[1;32mfor\u001b[0m \u001b[0melem\u001b[0m \u001b[1;32min\u001b[0m \u001b[0miterable\u001b[0m\u001b[1;33m:\u001b[0m\u001b[1;33m\u001b[0m\u001b[0m\n\u001b[1;32m--> 555\u001b[1;33m                     \u001b[0mself\u001b[0m\u001b[1;33m[\u001b[0m\u001b[0melem\u001b[0m\u001b[1;33m]\u001b[0m \u001b[1;33m=\u001b[0m \u001b[0mself_get\u001b[0m\u001b[1;33m(\u001b[0m\u001b[0melem\u001b[0m\u001b[1;33m,\u001b[0m \u001b[1;36m0\u001b[0m\u001b[1;33m)\u001b[0m \u001b[1;33m+\u001b[0m \u001b[1;36m1\u001b[0m\u001b[1;33m\u001b[0m\u001b[0m\n\u001b[0m\u001b[0;32m    556\u001b[0m         \u001b[1;32mif\u001b[0m \u001b[0mkwds\u001b[0m\u001b[1;33m:\u001b[0m\u001b[1;33m\u001b[0m\u001b[0m\n\u001b[0;32m    557\u001b[0m             \u001b[0mself\u001b[0m\u001b[1;33m.\u001b[0m\u001b[0mupdate\u001b[0m\u001b[1;33m(\u001b[0m\u001b[0mkwds\u001b[0m\u001b[1;33m)\u001b[0m\u001b[1;33m\u001b[0m\u001b[0m\n",
      "\u001b[1;31mTypeError\u001b[0m: unhashable type: 'list'"
     ]
    }
   ],
   "source": [
    "from collections import Counter\n",
    "import operator\n",
    "Normalized_Posts = sorted(dict(Counter(Normalized_Posts)).items(), key=operator.itemgetter(1),reverse = True)"
   ]
  },
  {
   "cell_type": "code",
   "execution_count": 115,
   "metadata": {
    "collapsed": false
   },
   "outputs": [],
   "source": [
    "Normalized_Posts = sorted(Normalized_Posts, key=lambda k: k[1], reverse=True) "
   ]
  },
  {
   "cell_type": "code",
   "execution_count": 136,
   "metadata": {
    "collapsed": false
   },
   "outputs": [
    {
     "name": "stdout",
     "output_type": "stream",
     "text": [
      "<open file 'Top25_Drug.txt', mode 'r' at 0x7f919c0e5d20>\n",
      "unknown drug,68178,34.45%\n",
      "\n",
      "Ritalin,61629,1.22%\n",
      "\n",
      "Adderall,19329,5.70%\n",
      "\n",
      "Viagra,14659,54.59%\n",
      "\n",
      "Estradiol,13698,16.62%\n",
      "\n",
      "methylphenidate,12987,1.34%\n",
      "\n",
      "Levitra,12125,38.37%\n",
      "\n",
      "Cialis,10832,53.66%\n",
      "\n",
      "Topamax,9464,21.31%\n",
      "\n",
      "Propranolol,8727,29.51%\n",
      "\n",
      "Concerta,7996,6.94%\n",
      "\n",
      "Imodium Multi-Symptom,7102,22.57%\n",
      "\n",
      "Atenolol,6774,60.72%\n",
      "\n",
      "metoprolol tartrate,6360,66.04%\n",
      "\n",
      "Lantus,6126,2.35%\n",
      "\n",
      "sildenafil,5783,51.37%\n",
      "\n",
      "ibuprofen,5440,80.83%\n",
      "\n",
      "Plavix,5396,62.97%\n",
      "\n",
      "Clomid,5359,33.40%\n",
      "\n",
      "amphetamine,5329,2.61%\n",
      "\n",
      "Baclofen,5236,31.19%\n",
      "\n",
      "Vyvanse,4954,6.08%\n",
      "\n",
      "Xanax,4798,49.81%\n",
      "\n",
      "Keppra,4772,11.15%\n",
      "\n",
      "Wellbutrin,4721,42.55%\n",
      "\n"
     ]
    }
   ],
   "source": [
    "Top_Mentions = []\n",
    "with open('Top25_Drug.txt','r') as f:\n",
    "    print f\n",
    "    for line in f:\n",
    "        print line\n",
    "        Top_Mentions.append(line.strip().split(','))\n"
   ]
  },
  {
   "cell_type": "code",
   "execution_count": 128,
   "metadata": {
    "collapsed": false
   },
   "outputs": [
    {
     "data": {
      "text/plain": [
       "[]"
      ]
     },
     "execution_count": 128,
     "metadata": {},
     "output_type": "execute_result"
    }
   ],
   "source": [
    "Top_Mentions"
   ]
  },
  {
   "cell_type": "code",
   "execution_count": 124,
   "metadata": {
    "collapsed": false
   },
   "outputs": [],
   "source": [
    "with open('Top25_SRs.txt','w') as f:\n",
    "    i =0 \n",
    "    for S in Normalized_Posts:\n",
    "        f.write(S[0] +',' +'%0.1f' %S[1] + ','+str(S[2])+ ','+str(S[3])+'\\n')\n",
    "        i +=1\n",
    "        if i == 25:\n",
    "            break"
   ]
  },
  {
   "cell_type": "code",
   "execution_count": 98,
   "metadata": {
    "collapsed": false
   },
   "outputs": [
    {
     "name": "stdout",
     "output_type": "stream",
     "text": [
      "Build Top Hit Lists.ipynb  Top25_Good_Drug_Mentions.pkl\r\n",
      "Drug_Summary.pkl           Top25_Normalized_SRs.pkl\r\n",
      "Top25_Drug_Mentions.pkl\r\n"
     ]
    }
   ],
   "source": [
    "ls"
   ]
  },
  {
   "cell_type": "code",
   "execution_count": 122,
   "metadata": {
    "collapsed": false
   },
   "outputs": [
    {
     "data": {
      "text/plain": [
       "[u'ADHD', 6606.181742164548, 30699, 44362.0]"
      ]
     },
     "execution_count": 122,
     "metadata": {},
     "output_type": "execute_result"
    }
   ],
   "source": [
    "\n",
    "Normalized_Posts[0]"
   ]
  },
  {
   "cell_type": "code",
   "execution_count": null,
   "metadata": {
    "collapsed": true
   },
   "outputs": [],
   "source": []
  }
 ],
 "metadata": {
  "kernelspec": {
   "display_name": "Python 2",
   "language": "python",
   "name": "python2"
  },
  "language_info": {
   "codemirror_mode": {
    "name": "ipython",
    "version": 2
   },
   "file_extension": ".py",
   "mimetype": "text/x-python",
   "name": "python",
   "nbconvert_exporter": "python",
   "pygments_lexer": "ipython2",
   "version": "2.7.11"
  }
 },
 "nbformat": 4,
 "nbformat_minor": 0
}
